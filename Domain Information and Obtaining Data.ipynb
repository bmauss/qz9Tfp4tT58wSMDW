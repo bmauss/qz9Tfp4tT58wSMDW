{
 "cells": [
  {
   "cell_type": "markdown",
   "metadata": {},
   "source": [
    "# Domain and Data Information\n",
    "\n",
    "\n",
    "## Stakeholder Information\n",
    "\n",
    "Stakeholder is one of the fastest growing startups in the logistics and delivery domain. They work with several partners and make on-demand delivery to their customers. During the COVID-19 pandemic, they are facing several different challenges and everyday they are trying to address these challenges.\n",
    "\n",
    "Stakeholder strives to make their customers happy. As a growing startup, with a global expansion strategy they know that they need to make their customers happy and the only way to do that is to measure how happy each customer is. If they can predict what makes their customers happy or unhappy, they can then take necessary actions.\n",
    "\n",
    "Getting feedback from customers is not easy either, but they do their best to get constant feedback from their customers. This is a crucial function to improve their operations across all levels.\n",
    "\n",
    "The Stakeholder recently did a survey to a select customer cohort. We are presented with a subset of this data. They will be using the **remaining data** as a **private test set**. \n",
    "\n",
    "## Data Description\n",
    "\n",
    "Y = target attribute (Y) with values indicating 0 (unhappy) and 1 (happy) customers\n",
    "\n",
    "X1 = My order was delivered on time\n",
    "\n",
    "X2 = Contents of my order was as I expected\n",
    "\n",
    "X3 = I ordered everything I wanted to order\n",
    "\n",
    "X4 = I paid a good price for my order\n",
    "\n",
    "X5 = I am satisfied with my courier\n",
    "\n",
    "X6 = The app makes ordering easy for me\n",
    "\n",
    "Attributes X1 to X6 indicate the responses for each question and have values from 1 to 5 where the smaller number indicates less and the higher number indicates more towards the answer.\n",
    "\n",
    "## Goals \n",
    "\n",
    "* Predict if a customer is happy or not based on the answers they give to questions asked\n",
    "\n",
    "* Using a feature selection approach show stakeholder what the minimal set of attributes/features necessary that would preserve the most information about the problem while increasing predictability of the data.\n",
    "\n",
    "## Metrics \n",
    "\n",
    "Reach 73% accuracy score or above, or convince us why your solution is superior. We are definitely interested in every solution and insight you can provide us.\n",
    "\n",
    "# Obtain Data\n"
   ]
  },
  {
   "cell_type": "code",
   "execution_count": 1,
   "metadata": {
    "ExecuteTime": {
     "end_time": "2021-03-05T21:35:49.521851Z",
     "start_time": "2021-03-05T21:35:48.410863Z"
    }
   },
   "outputs": [],
   "source": [
    "import warnings\n",
    "warnings.filterwarnings('ignore')\n",
    "import pandas as pd\n",
    "import numpy as np\n",
    "import matplotlib.pyplot as plt\n",
    "%matplotlib inline\n",
    "import seaborn as sns"
   ]
  },
  {
   "cell_type": "code",
   "execution_count": 2,
   "metadata": {
    "ExecuteTime": {
     "end_time": "2021-03-05T21:35:49.542555Z",
     "start_time": "2021-03-05T21:35:49.522823Z"
    },
    "scrolled": true
   },
   "outputs": [
    {
     "data": {
      "text/html": [
       "<div>\n",
       "<style scoped>\n",
       "    .dataframe tbody tr th:only-of-type {\n",
       "        vertical-align: middle;\n",
       "    }\n",
       "\n",
       "    .dataframe tbody tr th {\n",
       "        vertical-align: top;\n",
       "    }\n",
       "\n",
       "    .dataframe thead th {\n",
       "        text-align: right;\n",
       "    }\n",
       "</style>\n",
       "<table border=\"1\" class=\"dataframe\">\n",
       "  <thead>\n",
       "    <tr style=\"text-align: right;\">\n",
       "      <th></th>\n",
       "      <th>Y</th>\n",
       "      <th>X1</th>\n",
       "      <th>X2</th>\n",
       "      <th>X3</th>\n",
       "      <th>X4</th>\n",
       "      <th>X5</th>\n",
       "      <th>X6</th>\n",
       "    </tr>\n",
       "  </thead>\n",
       "  <tbody>\n",
       "    <tr>\n",
       "      <th>0</th>\n",
       "      <td>0</td>\n",
       "      <td>3</td>\n",
       "      <td>3</td>\n",
       "      <td>3</td>\n",
       "      <td>4</td>\n",
       "      <td>2</td>\n",
       "      <td>4</td>\n",
       "    </tr>\n",
       "    <tr>\n",
       "      <th>1</th>\n",
       "      <td>0</td>\n",
       "      <td>3</td>\n",
       "      <td>2</td>\n",
       "      <td>3</td>\n",
       "      <td>5</td>\n",
       "      <td>4</td>\n",
       "      <td>3</td>\n",
       "    </tr>\n",
       "    <tr>\n",
       "      <th>2</th>\n",
       "      <td>1</td>\n",
       "      <td>5</td>\n",
       "      <td>3</td>\n",
       "      <td>3</td>\n",
       "      <td>3</td>\n",
       "      <td>3</td>\n",
       "      <td>5</td>\n",
       "    </tr>\n",
       "    <tr>\n",
       "      <th>3</th>\n",
       "      <td>0</td>\n",
       "      <td>5</td>\n",
       "      <td>4</td>\n",
       "      <td>3</td>\n",
       "      <td>3</td>\n",
       "      <td>3</td>\n",
       "      <td>5</td>\n",
       "    </tr>\n",
       "    <tr>\n",
       "      <th>4</th>\n",
       "      <td>0</td>\n",
       "      <td>5</td>\n",
       "      <td>4</td>\n",
       "      <td>3</td>\n",
       "      <td>3</td>\n",
       "      <td>3</td>\n",
       "      <td>5</td>\n",
       "    </tr>\n",
       "  </tbody>\n",
       "</table>\n",
       "</div>"
      ],
      "text/plain": [
       "   Y  X1  X2  X3  X4  X5  X6\n",
       "0  0   3   3   3   4   2   4\n",
       "1  0   3   2   3   5   4   3\n",
       "2  1   5   3   3   3   3   5\n",
       "3  0   5   4   3   3   3   5\n",
       "4  0   5   4   3   3   3   5"
      ]
     },
     "execution_count": 2,
     "metadata": {},
     "output_type": "execute_result"
    }
   ],
   "source": [
    "path = 'C:/Users/User/dsc-data-science-env-setup-v2-1/dsbc/Projects/csv/'\\\n",
    "            'Customer Happiness/ACME-HappinessSurvey2020.csv'\n",
    "df = pd.read_csv(path)\n",
    "df.head()"
   ]
  },
  {
   "cell_type": "code",
   "execution_count": 3,
   "metadata": {
    "ExecuteTime": {
     "end_time": "2021-03-05T21:35:49.669000Z",
     "start_time": "2021-03-05T21:35:49.543545Z"
    }
   },
   "outputs": [
    {
     "name": "stdout",
     "output_type": "stream",
     "text": [
      "<class 'pandas.core.frame.DataFrame'>\n",
      "RangeIndex: 126 entries, 0 to 125\n",
      "Data columns (total 7 columns):\n",
      " #   Column  Non-Null Count  Dtype\n",
      "---  ------  --------------  -----\n",
      " 0   Y       126 non-null    int64\n",
      " 1   X1      126 non-null    int64\n",
      " 2   X2      126 non-null    int64\n",
      " 3   X3      126 non-null    int64\n",
      " 4   X4      126 non-null    int64\n",
      " 5   X5      126 non-null    int64\n",
      " 6   X6      126 non-null    int64\n",
      "dtypes: int64(7)\n",
      "memory usage: 7.0 KB\n"
     ]
    }
   ],
   "source": [
    "# Checking for null values\n",
    "df.info()"
   ]
  },
  {
   "cell_type": "code",
   "execution_count": 4,
   "metadata": {
    "ExecuteTime": {
     "end_time": "2021-03-05T21:35:49.788922Z",
     "start_time": "2021-03-05T21:35:49.672977Z"
    }
   },
   "outputs": [
    {
     "name": "stdout",
     "output_type": "stream",
     "text": [
      "Y unique values: [0 1]\n",
      "X1 unique values: [3 5 4 1]\n",
      "X2 unique values: [3 2 4 5 1]\n",
      "X3 unique values: [3 2 4 5 1]\n",
      "X4 unique values: [4 5 3 2 1]\n",
      "X5 unique values: [2 4 3 5 1]\n",
      "X6 unique values: [4 3 5 2 1]\n"
     ]
    }
   ],
   "source": [
    "# Checking for placeholder values\n",
    "for col in df.columns:\n",
    "    values = df[col].unique()\n",
    "    print(f'{col} unique values: {values}')"
   ]
  },
  {
   "cell_type": "markdown",
   "metadata": {},
   "source": [
    "There are no missing values or placeholder values\n",
    "\n",
    "## Checking Class Balance\n",
    "\n",
    "Checking for class imbalance in the target variable"
   ]
  },
  {
   "cell_type": "code",
   "execution_count": 5,
   "metadata": {
    "ExecuteTime": {
     "end_time": "2021-03-05T21:35:50.062007Z",
     "start_time": "2021-03-05T21:35:49.793912Z"
    }
   },
   "outputs": [
    {
     "data": {
      "image/png": "[encoded data removed]",
      "text/plain": [
       "<Figure size 576x360 with 1 Axes>"
      ]
     },
     "metadata": {
      "needs_background": "light"
     },
     "output_type": "display_data"
    }
   ],
   "source": [
    "fig = plt.figure(figsize=(8,5))\n",
    "sns.barplot(x=df['Y'].unique(), y=df['Y'].value_counts())\n",
    "plt.title('Class Balance')\n",
    "plt.xlabel('Classes')\n",
    "plt.ylabel('Count')\n",
    "plt.show();"
   ]
  },
  {
   "cell_type": "markdown",
   "metadata": {},
   "source": [
    "Slight class imbalance, but not enough to require re-sampling or removing data from the \"Unhappy\" class."
   ]
  },
  {
   "cell_type": "code",
   "execution_count": 6,
   "metadata": {
    "ExecuteTime": {
     "end_time": "2021-03-05T21:35:50.598708Z",
     "start_time": "2021-03-05T21:35:50.064006Z"
    }
   },
   "outputs": [
    {
     "data": {
      "image/png": "[encoded data removed]",
      "text/plain": [
       "<Figure size 576x936 with 6 Axes>"
      ]
     },
     "metadata": {
      "needs_background": "light"
     },
     "output_type": "display_data"
    }
   ],
   "source": [
    "# Checking Normality of the data\n",
    "xlabel = 'Survey Score'\n",
    "ylabel = 'Count'\n",
    "\n",
    "x1 = 'Delivered on time'\n",
    "x2 = 'Received Expected Item' \n",
    "x3 = 'Ordered everything I wanted'\n",
    "x4 = 'Fair Price'\n",
    "x5 = 'Satisfied with Courier'\n",
    "x6 = 'App Makes Ordering Simple'\n",
    "\n",
    "fig = plt.figure(figsize=(8, 13))\n",
    "plt.xlabel(xlabel)\n",
    "plt.ylabel(ylabel)\n",
    "\n",
    "ax1 = plt.subplot(3, 2, 1, )\n",
    "sns.countplot(df.X1)\n",
    "plt.xlabel(x1)\n",
    "\n",
    "ax2 = plt.subplot(3, 2, 2)\n",
    "sns.countplot(df.X2)\n",
    "plt.xlabel(x2)\n",
    "\n",
    "ax3 = plt.subplot(3, 2, 3)\n",
    "sns.countplot(df.X3)\n",
    "plt.xlabel(x3)\n",
    "\n",
    "ax4 = plt.subplot(3, 2, 4)\n",
    "sns.countplot(df.X4)\n",
    "plt.xlabel(x4)\n",
    "\n",
    "ax5 = plt.subplot(3, 2, 5)\n",
    "sns.countplot(df.X5)\n",
    "plt.xlabel(x5)\n",
    "\n",
    "ax6 = plt.subplot(3, 2, 6)\n",
    "sns.countplot(df.X6)\n",
    "plt.xlabel(x6)\n",
    "\n",
    "plt.show;"
   ]
  },
  {
   "cell_type": "markdown",
   "metadata": {},
   "source": [
    "Observations: \n",
    "* Delivery time: Customers find the delivery time exceptional\n",
    "* Correct items: There have been problems with receiving the correct items.\n",
    "* Everything Ordered was everything they wanted: Customers are mostly neutral about the stakeholder's items available for ordering.  This question doesn't seem to be a Key Performance Indicator since the stakeholder's responsibilities are logistics and delivery of their clients' items.  The items available in the inventory of their clients doesn't particularly fall to them. \n",
    "* Fair Price: Customers find the prices to be favorable\n",
    "* Satisfied with Courier: Customers like the courier\n",
    "* Satisfied with App: Customers love the app"
   ]
  },
  {
   "cell_type": "code",
   "execution_count": 7,
   "metadata": {
    "ExecuteTime": {
     "end_time": "2021-03-05T21:35:50.608708Z",
     "start_time": "2021-03-05T21:35:50.599700Z"
    }
   },
   "outputs": [
    {
     "name": "stdout",
     "output_type": "stream",
     "text": [
      "\"My order was delivered on time\" Average rating = 4.33\n",
      "\"Contents of my order was as I expected\" Average rating = 2.53\n",
      "\"I ordered everything I wanted to order\" Average rating = 3.31\n",
      "\"I paid a good price for my order\" Average rating = 3.75\n",
      "\"I am satisfied with my courier\" Average rating = 3.65\n",
      "\"The app makes ordering easy for me\" Average rating = 4.25\n"
     ]
    }
   ],
   "source": [
    "# Average responses to questions\n",
    "x1 = 'My order was delivered on time'\n",
    "x2 = 'Contents of my order was as I expected'\n",
    "x3 = 'I ordered everything I wanted to order'\n",
    "x4 = 'I paid a good price for my order'\n",
    "x5 = 'I am satisfied with my courier'\n",
    "x6 = 'The app makes ordering easy for me'\n",
    "\n",
    "\n",
    "feats = df.drop('Y', axis=1)\n",
    "question = [x1, x2,x3, x4, x5, x6]\n",
    "\n",
    "mean = []\n",
    "survey_mean_dict = {}\n",
    "for col in feats.columns:\n",
    "    mean.append(round(feats[col].mean(), 2))\n",
    "\n",
    "for i in range(len(mean)):\n",
    "    key = question[i]\n",
    "    val = mean[i]\n",
    "    survey_mean_dict[key] = val\n",
    "\n",
    "for i in range(len(list(survey_mean_dict))):\n",
    "    question = list(survey_mean_dict.keys())[i]\n",
    "    mean = []\n",
    "    for k in survey_mean_dict:\n",
    "        mean.append(survey_mean_dict[k])\n",
    "    print(f'\"{question}\" Average rating = {mean[i]}')"
   ]
  },
  {
   "cell_type": "markdown",
   "metadata": {
    "ExecuteTime": {
     "end_time": "2021-03-05T20:38:43.548143Z",
     "start_time": "2021-03-05T20:38:43.544149Z"
    }
   },
   "source": [
    "# Linear Regression\n"
   ]
  },
  {
   "cell_type": "code",
   "execution_count": 8,
   "metadata": {
    "ExecuteTime": {
     "end_time": "2021-03-05T21:35:51.906289Z",
     "start_time": "2021-03-05T21:35:50.611692Z"
    }
   },
   "outputs": [],
   "source": [
    "from sklearn.model_selection import train_test_split\n",
    "from sklearn.linear_model import LinearRegression\n",
    "from sklearn.metrics import mean_squared_error\n",
    "import statsmodels.api as sm\n",
    "import statsmodels.formula.api as smf\n",
    "from statsmodels.formula.api import ols\n",
    "from scipy.stats import stats\n",
    "import statsmodels.stats.api as sms"
   ]
  },
  {
   "cell_type": "code",
   "execution_count": 9,
   "metadata": {
    "ExecuteTime": {
     "end_time": "2021-03-05T21:35:51.949220Z",
     "start_time": "2021-03-05T21:35:51.907258Z"
    }
   },
   "outputs": [
    {
     "data": {
      "text/html": [
       "<table class=\"simpletable\">\n",
       "<caption>OLS Regression Results</caption>\n",
       "<tr>\n",
       "  <th>Dep. Variable:</th>            <td>Y</td>        <th>  R-squared:         </th> <td>   0.097</td>\n",
       "</tr>\n",
       "<tr>\n",
       "  <th>Model:</th>                   <td>OLS</td>       <th>  Adj. R-squared:    </th> <td>   0.052</td>\n",
       "</tr>\n",
       "<tr>\n",
       "  <th>Method:</th>             <td>Least Squares</td>  <th>  F-statistic:       </th> <td>   2.136</td>\n",
       "</tr>\n",
       "<tr>\n",
       "  <th>Date:</th>             <td>Fri, 05 Mar 2021</td> <th>  Prob (F-statistic):</th>  <td>0.0541</td> \n",
       "</tr>\n",
       "<tr>\n",
       "  <th>Time:</th>                 <td>16:35:51</td>     <th>  Log-Likelihood:    </th> <td> -84.432</td>\n",
       "</tr>\n",
       "<tr>\n",
       "  <th>No. Observations:</th>      <td>   126</td>      <th>  AIC:               </th> <td>   182.9</td>\n",
       "</tr>\n",
       "<tr>\n",
       "  <th>Df Residuals:</th>          <td>   119</td>      <th>  BIC:               </th> <td>   202.7</td>\n",
       "</tr>\n",
       "<tr>\n",
       "  <th>Df Model:</th>              <td>     6</td>      <th>                     </th>     <td> </td>   \n",
       "</tr>\n",
       "<tr>\n",
       "  <th>Covariance Type:</th>      <td>nonrobust</td>    <th>                     </th>     <td> </td>   \n",
       "</tr>\n",
       "</table>\n",
       "<table class=\"simpletable\">\n",
       "<tr>\n",
       "      <td></td>         <th>coef</th>     <th>std err</th>      <th>t</th>      <th>P>|t|</th>  <th>[0.025</th>    <th>0.975]</th>  \n",
       "</tr>\n",
       "<tr>\n",
       "  <th>Intercept</th> <td>   -0.3008</td> <td>    0.325</td> <td>   -0.926</td> <td> 0.356</td> <td>   -0.944</td> <td>    0.342</td>\n",
       "</tr>\n",
       "<tr>\n",
       "  <th>X1</th>        <td>    0.1292</td> <td>    0.065</td> <td>    1.992</td> <td> 0.049</td> <td>    0.001</td> <td>    0.258</td>\n",
       "</tr>\n",
       "<tr>\n",
       "  <th>X2</th>        <td>   -0.0219</td> <td>    0.040</td> <td>   -0.545</td> <td> 0.587</td> <td>   -0.101</td> <td>    0.058</td>\n",
       "</tr>\n",
       "<tr>\n",
       "  <th>X3</th>        <td>    0.0279</td> <td>    0.048</td> <td>    0.582</td> <td> 0.562</td> <td>   -0.067</td> <td>    0.123</td>\n",
       "</tr>\n",
       "<tr>\n",
       "  <th>X4</th>        <td>   -0.0023</td> <td>    0.054</td> <td>   -0.043</td> <td> 0.966</td> <td>   -0.110</td> <td>    0.105</td>\n",
       "</tr>\n",
       "<tr>\n",
       "  <th>X5</th>        <td>    0.0464</td> <td>    0.045</td> <td>    1.027</td> <td> 0.307</td> <td>   -0.043</td> <td>    0.136</td>\n",
       "</tr>\n",
       "<tr>\n",
       "  <th>X6</th>        <td>    0.0213</td> <td>    0.061</td> <td>    0.349</td> <td> 0.728</td> <td>   -0.100</td> <td>    0.142</td>\n",
       "</tr>\n",
       "</table>\n",
       "<table class=\"simpletable\">\n",
       "<tr>\n",
       "  <th>Omnibus:</th>       <td>2428.529</td> <th>  Durbin-Watson:     </th> <td>   1.980</td>\n",
       "</tr>\n",
       "<tr>\n",
       "  <th>Prob(Omnibus):</th>  <td> 0.000</td>  <th>  Jarque-Bera (JB):  </th> <td>  14.231</td>\n",
       "</tr>\n",
       "<tr>\n",
       "  <th>Skew:</th>           <td>-0.174</td>  <th>  Prob(JB):          </th> <td>0.000812</td>\n",
       "</tr>\n",
       "<tr>\n",
       "  <th>Kurtosis:</th>       <td> 1.391</td>  <th>  Cond. No.          </th> <td>    69.4</td>\n",
       "</tr>\n",
       "</table><br/><br/>Warnings:<br/>[1] Standard Errors assume that the covariance matrix of the errors is correctly specified."
      ],
      "text/plain": [
       "<class 'statsmodels.iolib.summary.Summary'>\n",
       "\"\"\"\n",
       "                            OLS Regression Results                            \n",
       "==============================================================================\n",
       "Dep. Variable:                      Y   R-squared:                       0.097\n",
       "Model:                            OLS   Adj. R-squared:                  0.052\n",
       "Method:                 Least Squares   F-statistic:                     2.136\n",
       "Date:                Fri, 05 Mar 2021   Prob (F-statistic):             0.0541\n",
       "Time:                        16:35:51   Log-Likelihood:                -84.432\n",
       "No. Observations:                 126   AIC:                             182.9\n",
       "Df Residuals:                     119   BIC:                             202.7\n",
       "Df Model:                           6                                         \n",
       "Covariance Type:            nonrobust                                         \n",
       "==============================================================================\n",
       "                 coef    std err          t      P>|t|      [0.025      0.975]\n",
       "------------------------------------------------------------------------------\n",
       "Intercept     -0.3008      0.325     -0.926      0.356      -0.944       0.342\n",
       "X1             0.1292      0.065      1.992      0.049       0.001       0.258\n",
       "X2            -0.0219      0.040     -0.545      0.587      -0.101       0.058\n",
       "X3             0.0279      0.048      0.582      0.562      -0.067       0.123\n",
       "X4            -0.0023      0.054     -0.043      0.966      -0.110       0.105\n",
       "X5             0.0464      0.045      1.027      0.307      -0.043       0.136\n",
       "X6             0.0213      0.061      0.349      0.728      -0.100       0.142\n",
       "==============================================================================\n",
       "Omnibus:                     2428.529   Durbin-Watson:                   1.980\n",
       "Prob(Omnibus):                  0.000   Jarque-Bera (JB):               14.231\n",
       "Skew:                          -0.174   Prob(JB):                     0.000812\n",
       "Kurtosis:                       1.391   Cond. No.                         69.4\n",
       "==============================================================================\n",
       "\n",
       "Warnings:\n",
       "[1] Standard Errors assume that the covariance matrix of the errors is correctly specified.\n",
       "\"\"\""
      ]
     },
     "execution_count": 9,
     "metadata": {},
     "output_type": "execute_result"
    }
   ],
   "source": [
    "target = 'Y'\n",
    "feat_cols = df.drop('Y', axis=1).columns\n",
    "preds = '+'.join(feat_cols)\n",
    "\n",
    "formula = target + '~' + preds\n",
    "model = smf.ols(formula=formula, data=df).fit()\n",
    "model.summary()"
   ]
  },
  {
   "cell_type": "code",
   "execution_count": 13,
   "metadata": {
    "ExecuteTime": {
     "end_time": "2021-03-05T21:41:56.289466Z",
     "start_time": "2021-03-05T21:41:56.259483Z"
    }
   },
   "outputs": [
    {
     "data": {
      "text/html": [
       "<table class=\"simpletable\">\n",
       "<caption>OLS Regression Results</caption>\n",
       "<tr>\n",
       "  <th>Dep. Variable:</th>            <td>Y</td>        <th>  R-squared:         </th> <td>   0.078</td>\n",
       "</tr>\n",
       "<tr>\n",
       "  <th>Model:</th>                   <td>OLS</td>       <th>  Adj. R-squared:    </th> <td>   0.071</td>\n",
       "</tr>\n",
       "<tr>\n",
       "  <th>Method:</th>             <td>Least Squares</td>  <th>  F-statistic:       </th> <td>   10.56</td>\n",
       "</tr>\n",
       "<tr>\n",
       "  <th>Date:</th>             <td>Fri, 05 Mar 2021</td> <th>  Prob (F-statistic):</th>  <td>0.00149</td>\n",
       "</tr>\n",
       "<tr>\n",
       "  <th>Time:</th>                 <td>16:41:56</td>     <th>  Log-Likelihood:    </th> <td> -85.726</td>\n",
       "</tr>\n",
       "<tr>\n",
       "  <th>No. Observations:</th>      <td>   126</td>      <th>  AIC:               </th> <td>   175.5</td>\n",
       "</tr>\n",
       "<tr>\n",
       "  <th>Df Residuals:</th>          <td>   124</td>      <th>  BIC:               </th> <td>   181.1</td>\n",
       "</tr>\n",
       "<tr>\n",
       "  <th>Df Model:</th>              <td>     1</td>      <th>                     </th>     <td> </td>   \n",
       "</tr>\n",
       "<tr>\n",
       "  <th>Covariance Type:</th>      <td>nonrobust</td>    <th>                     </th>     <td> </td>   \n",
       "</tr>\n",
       "</table>\n",
       "<table class=\"simpletable\">\n",
       "<tr>\n",
       "      <td></td>         <th>coef</th>     <th>std err</th>      <th>t</th>      <th>P>|t|</th>  <th>[0.025</th>    <th>0.975]</th>  \n",
       "</tr>\n",
       "<tr>\n",
       "  <th>Intercept</th> <td>   -0.2107</td> <td>    0.237</td> <td>   -0.888</td> <td> 0.376</td> <td>   -0.680</td> <td>    0.259</td>\n",
       "</tr>\n",
       "<tr>\n",
       "  <th>X1</th>        <td>    0.1750</td> <td>    0.054</td> <td>    3.250</td> <td> 0.001</td> <td>    0.068</td> <td>    0.282</td>\n",
       "</tr>\n",
       "</table>\n",
       "<table class=\"simpletable\">\n",
       "<tr>\n",
       "  <th>Omnibus:</th>       <td>1697.382</td> <th>  Durbin-Watson:     </th> <td>   2.024</td>\n",
       "</tr>\n",
       "<tr>\n",
       "  <th>Prob(Omnibus):</th>  <td> 0.000</td>  <th>  Jarque-Bera (JB):  </th> <td>  15.193</td>\n",
       "</tr>\n",
       "<tr>\n",
       "  <th>Skew:</th>           <td>-0.192</td>  <th>  Prob(JB):          </th> <td>0.000502</td>\n",
       "</tr>\n",
       "<tr>\n",
       "  <th>Kurtosis:</th>       <td> 1.343</td>  <th>  Cond. No.          </th> <td>    25.6</td>\n",
       "</tr>\n",
       "</table><br/><br/>Warnings:<br/>[1] Standard Errors assume that the covariance matrix of the errors is correctly specified."
      ],
      "text/plain": [
       "<class 'statsmodels.iolib.summary.Summary'>\n",
       "\"\"\"\n",
       "                            OLS Regression Results                            \n",
       "==============================================================================\n",
       "Dep. Variable:                      Y   R-squared:                       0.078\n",
       "Model:                            OLS   Adj. R-squared:                  0.071\n",
       "Method:                 Least Squares   F-statistic:                     10.56\n",
       "Date:                Fri, 05 Mar 2021   Prob (F-statistic):            0.00149\n",
       "Time:                        16:41:56   Log-Likelihood:                -85.726\n",
       "No. Observations:                 126   AIC:                             175.5\n",
       "Df Residuals:                     124   BIC:                             181.1\n",
       "Df Model:                           1                                         \n",
       "Covariance Type:            nonrobust                                         \n",
       "==============================================================================\n",
       "                 coef    std err          t      P>|t|      [0.025      0.975]\n",
       "------------------------------------------------------------------------------\n",
       "Intercept     -0.2107      0.237     -0.888      0.376      -0.680       0.259\n",
       "X1             0.1750      0.054      3.250      0.001       0.068       0.282\n",
       "==============================================================================\n",
       "Omnibus:                     1697.382   Durbin-Watson:                   2.024\n",
       "Prob(Omnibus):                  0.000   Jarque-Bera (JB):               15.193\n",
       "Skew:                          -0.192   Prob(JB):                     0.000502\n",
       "Kurtosis:                       1.343   Cond. No.                         25.6\n",
       "==============================================================================\n",
       "\n",
       "Warnings:\n",
       "[1] Standard Errors assume that the covariance matrix of the errors is correctly specified.\n",
       "\"\"\""
      ]
     },
     "execution_count": 13,
     "metadata": {},
     "output_type": "execute_result"
    }
   ],
   "source": [
    "# Removing Statistically Insignificant columns\n",
    "target = 'Y'\n",
    "pred = 'X1'\n",
    "\n",
    "formula = target + '~' + pred\n",
    "model2 = smf.ols(formula=formula, data=df).fit()\n",
    "model2.summary()"
   ]
  },
  {
   "cell_type": "code",
   "execution_count": 14,
   "metadata": {
    "ExecuteTime": {
     "end_time": "2021-03-05T21:43:50.599280Z",
     "start_time": "2021-03-05T21:43:50.586301Z"
    }
   },
   "outputs": [
    {
     "name": "stdout",
     "output_type": "stream",
     "text": [
      "Train Mean Squarred Error: 0.21344520851152843\n",
      "Test Mean Squarred Error: 0.30398256325114703\n",
      "Train RMSE: 0.4620013079110582\n",
      "Test RMSE: 0.5513461374228961\n"
     ]
    }
   ],
   "source": [
    "linreg = LinearRegression()\n",
    "\n",
    "# performing train_test_split\n",
    "y = df['Y']\n",
    "\n",
    "X_train, X_test, y_train, y_test = train_test_split(feats, y, test_size=0.2,\n",
    "                                                   random_state=42)\n",
    "# Fitting \n",
    "linreg.fit(X_train, y_train)\n",
    "\n",
    "y_hat_train = linreg.predict(X_train)\n",
    "y_hat_test = linreg.predict(X_test)\n",
    "\n",
    "train_mse = mean_squared_error(y_train, y_hat_train)\n",
    "test_mse = mean_squared_error(y_test, y_hat_test)\n",
    "print('Train Mean Squarred Error:', train_mse)\n",
    "print('Test Mean Squarred Error:', test_mse)\n",
    "\n",
    "# Caluclating Root Mean Squared Error\n",
    "train_rmse = np.sqrt(train_mse)\n",
    "test_rmse = np.sqrt(test_mse)\n",
    "print('Train RMSE:', train_rmse)\n",
    "print('Test RMSE:', test_rmse)"
   ]
  },
  {
   "cell_type": "code",
   "execution_count": 15,
   "metadata": {
    "ExecuteTime": {
     "end_time": "2021-03-05T21:44:21.504140Z",
     "start_time": "2021-03-05T21:44:21.394183Z"
    }
   },
   "outputs": [
    {
     "data": {
      "image/png": "[encoded data removed]",
      "text/plain": [
       "<Figure size 432x288 with 1 Axes>"
      ]
     },
     "metadata": {
      "needs_background": "light"
     },
     "output_type": "display_data"
    }
   ],
   "source": [
    "# Checking distribution  of errors using QQ-plot\n",
    "fig = sm.graphics.qqplot(model2.resid, dist='norm', line='45', fit=True)"
   ]
  },
  {
   "cell_type": "code",
   "execution_count": 18,
   "metadata": {
    "ExecuteTime": {
     "end_time": "2021-03-05T21:46:42.654499Z",
     "start_time": "2021-03-05T21:46:42.506782Z"
    }
   },
   "outputs": [
    {
     "data": {
      "text/plain": [
       "[<matplotlib.lines.Line2D at 0x1e23cc446d8>]"
      ]
     },
     "execution_count": 18,
     "metadata": {},
     "output_type": "execute_result"
    },
    {
     "data": {
      "image/png": "[encoded data removed]",
      "text/plain": [
       "<Figure size 432x288 with 1 Axes>"
      ]
     },
     "metadata": {
      "needs_background": "light"
     },
     "output_type": "display_data"
    }
   ],
   "source": [
    "# Checking for homoscedasticity \n",
    "\n",
    "X = df.drop('Y', axis=1)\n",
    "\n",
    "plt.scatter(model.predict(X), model.resid)\n",
    "plt.plot(model.predict(X), [0 for i in range(len(df))])"
   ]
  },
  {
   "cell_type": "code",
   "execution_count": null,
   "metadata": {},
   "outputs": [],
   "source": []
  }
 ],
 "metadata": {
  "kernelspec": {
   "display_name": "Python [conda env:learn-env] *",
   "language": "python",
   "name": "conda-env-learn-env-py"
  },
  "language_info": {
   "codemirror_mode": {
    "name": "ipython",
    "version": 3
   },
   "file_extension": ".py",
   "mimetype": "text/x-python",
   "name": "python",
   "nbconvert_exporter": "python",
   "pygments_lexer": "ipython3",
   "version": "3.6.12"
  },
  "toc": {
   "base_numbering": 1,
   "nav_menu": {},
   "number_sections": true,
   "sideBar": true,
   "skip_h1_title": false,
   "title_cell": "Table of Contents",
   "title_sidebar": "Contents",
   "toc_cell": false,
   "toc_position": {},
   "toc_section_display": true,
   "toc_window_display": false
  },
  "varInspector": {
   "cols": {
    "lenName": 16,
    "lenType": 16,
    "lenVar": 40
   },
   "kernels_config": {
    "python": {
     "delete_cmd_postfix": "",
     "delete_cmd_prefix": "del ",
     "library": "var_list.py",
     "varRefreshCmd": "print(var_dic_list())"
    },
    "r": {
     "delete_cmd_postfix": ") ",
     "delete_cmd_prefix": "rm(",
     "library": "var_list.r",
     "varRefreshCmd": "cat(var_dic_list()) "
    }
   },
   "types_to_exclude": [
    "module",
    "function",
    "builtin_function_or_method",
    "instance",
    "_Feature"
   ],
   "window_display": false
  }
 },
 "nbformat": 4,
 "nbformat_minor": 4
}
